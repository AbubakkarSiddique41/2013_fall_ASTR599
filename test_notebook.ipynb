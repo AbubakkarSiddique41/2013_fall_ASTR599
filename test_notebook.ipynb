{
  "nbformat": 4,
  "nbformat_minor": 0,
  "metadata": {
    "colab": {
      "name": "test-notebook.ipynb",
      "version": "0.3.2",
      "provenance": [],
      "include_colab_link": true
    },
    "kernelspec": {
      "name": "python3",
      "display_name": "Python 3"
    }
  },
  "cells": [
    {
      "cell_type": "markdown",
      "metadata": {
        "id": "view-in-github",
        "colab_type": "text"
      },
      "source": [
        "[View in Colaboratory](https://colab.research.google.com/github/jakevdp/2013_fall_ASTR599/blob/master/test_notebook.ipynb)\n",
        "[![Open In Colab](https://colab.research.google.com/assets/colab-badge.svg)](https://colab.research.google.com/github/jakevdp/2013_fall_ASTR599/blob/master/test_notebook.ipynb)\n"
      ]
    },
    {
      "metadata": {
        "id": "MuJ8JlaDbmTM",
        "colab_type": "text"
      },
      "cell_type": "markdown",
      "source": [
        "# Test Notebook\n",
        "\n",
        "lorem ipsum"
      ]
    },
    {
      "metadata": {
        "id": "c5ag-O7hbqsX",
        "colab_type": "code",
        "colab": {}
      },
      "cell_type": "code",
      "source": [
        ""
      ],
      "execution_count": 0,
      "outputs": []
    }
  ]
}
