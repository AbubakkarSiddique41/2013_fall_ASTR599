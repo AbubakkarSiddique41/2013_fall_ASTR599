{
 "metadata": {
  "name": ""
 },
 "nbformat": 3,
 "nbformat_minor": 0,
 "worksheets": [
  {
   "cells": [
    {
     "cell_type": "markdown",
     "metadata": {},
     "source": [
      "<style>\n",
      "    div.cell, div.text_cell_render{\n",
      "        max-width:750px;\n",
      "        margin-left:auto;\n",
      "        margin-right:auto;\n",
      "    }\n",
      "\n",
      "    h1, h2 {\n",
      "        text-align:center;\n",
      "        font-familly:\"Charis SIL\", serif;\n",
      "    }\n",
      "</style>"
     ]
    },
    {
     "cell_type": "markdown",
     "metadata": {},
     "source": [
      "Advanced Data Structures\n",
      "========================\n",
      "\n",
      "### There are four types of collections in Python\n",
      "#### (known as \"Sequence objects\")\n",
      "\n",
      "- #### ``list`` : a mutable ordered array of data\n",
      "- #### ``tuple`` : an immutable ordered array of data\n",
      "- #### ``dict`` : an unordered mapping from keys to values\n",
      "- #### ``set`` : an unordered collection of unique elements\n",
      "\n",
      "The values in any of these collections can be arbitrary\n",
      "Python objects, and mixing content types is OK.\n",
      "\n",
      "Note that strings are also sequence objects."
     ]
    },
    {
     "cell_type": "markdown",
     "metadata": {},
     "source": [
      "## Tuples\n",
      "\n",
      "### Tuples are denoted with parentheses"
     ]
    },
    {
     "cell_type": "code",
     "collapsed": false,
     "input": [
      "t = (12, -1)\n",
      "print type(t)"
     ],
     "language": "python",
     "metadata": {},
     "outputs": [
      {
       "output_type": "stream",
       "stream": "stdout",
       "text": [
        "<type 'tuple'>"
       ]
      }
     ],
     "prompt_number": 1
    },
    {
     "cell_type": "code",
     "collapsed": false,
     "input": [
      "print isinstance(t,tuple)\n",
      "print len(t)"
     ],
     "language": "python",
     "metadata": {},
     "outputs": [
      {
       "output_type": "stream",
       "stream": "stdout",
       "text": [
        "True\n",
        "2"
       ]
      }
     ],
     "prompt_number": 2
    },
    {
     "cell_type": "markdown",
     "metadata": {},
     "source": [
      "Can mix types in a tuple"
     ]
    },
    {
     "cell_type": "code",
     "collapsed": false,
     "input": [
      "t = (12, \"monty\", True, -1.23e6)\n",
      "print t[1]"
     ],
     "language": "python",
     "metadata": {},
     "outputs": [
      {
       "output_type": "stream",
       "stream": "stdout",
       "text": [
        "monty\n"
       ]
      }
     ],
     "prompt_number": 10
    },
    {
     "cell_type": "markdown",
     "metadata": {},
     "source": [
      "Indexing works the same way as for strings:"
     ]
    },
    {
     "cell_type": "code",
     "collapsed": false,
     "input": [
      "print t[-1]"
     ],
     "language": "python",
     "metadata": {},
     "outputs": [
      {
       "output_type": "stream",
       "stream": "stdout",
       "text": [
        "-1230000.0"
       ]
      }
     ],
     "prompt_number": 4
    },
    {
     "cell_type": "code",
     "collapsed": false,
     "input": [
      "t[-2:]  # get the last two elements, return as a tuple"
     ],
     "language": "python",
     "metadata": {},
     "outputs": [
      {
       "output_type": "pyout",
       "prompt_number": 5,
       "text": [
        "(True, -1230000.0)"
       ]
      }
     ],
     "prompt_number": 5
    },
    {
     "cell_type": "code",
     "collapsed": false,
     "input": [
      "x = (True) ; print type(x)\n",
      "x = (True,) ; print type(x)"
     ],
     "language": "python",
     "metadata": {},
     "outputs": [
      {
       "output_type": "stream",
       "stream": "stdout",
       "text": [
        "<type 'bool'>\n",
        "<type 'tuple'>"
       ]
      }
     ],
     "prompt_number": 6
    },
    {
     "cell_type": "code",
     "collapsed": false,
     "input": [
      "x = ()\n",
      "type(x), len(x)"
     ],
     "language": "python",
     "metadata": {},
     "outputs": [
      {
       "metadata": {},
       "output_type": "pyout",
       "prompt_number": 8,
       "text": [
        "(tuple, 0)"
       ]
      }
     ],
     "prompt_number": 8
    },
    {
     "cell_type": "code",
     "collapsed": false,
     "input": [
      "x = (,)"
     ],
     "language": "python",
     "metadata": {},
     "outputs": [
      {
       "ename": "SyntaxError",
       "evalue": "invalid syntax (<ipython-input-9-bd05d59e2976>, line 1)",
       "output_type": "pyerr",
       "traceback": [
        "\u001b[0;36m  File \u001b[0;32m\"<ipython-input-9-bd05d59e2976>\"\u001b[0;36m, line \u001b[0;32m1\u001b[0m\n\u001b[0;31m    x = (,)\u001b[0m\n\u001b[0m         ^\u001b[0m\n\u001b[0;31mSyntaxError\u001b[0m\u001b[0;31m:\u001b[0m invalid syntax\n"
       ]
      }
     ],
     "prompt_number": 9
    },
    {
     "cell_type": "markdown",
     "metadata": {},
     "source": [
      "single-element tuples look like `(element,)`"
     ]
    },
    {
     "cell_type": "markdown",
     "metadata": {},
     "source": [
      "tuples cannot be modified.\n",
      "but you can create new one with concatenation"
     ]
    },
    {
     "cell_type": "code",
     "collapsed": false,
     "input": [
      "t[2] = False"
     ],
     "language": "python",
     "metadata": {},
     "outputs": [
      {
       "ename": "TypeError",
       "evalue": "'tuple' object does not support item assignment",
       "output_type": "pyerr",
       "traceback": [
        "\u001b[0;31m---------------------------------------------------------------------------\u001b[0m\n\u001b[0;31mTypeError\u001b[0m                                 Traceback (most recent call last)",
        "\u001b[0;32m/Users/jbloom/Classes/python-bootcamp/DataFiles_and_Notebooks/02_AdvancedDataStructures/<ipython-input-9-9365ccccf007>\u001b[0m in \u001b[0;36m<module>\u001b[0;34m()\u001b[0m\n\u001b[0;32m----> 1\u001b[0;31m \u001b[0mt\u001b[0m\u001b[0;34m[\u001b[0m\u001b[0;36m2\u001b[0m\u001b[0;34m]\u001b[0m \u001b[0;34m=\u001b[0m \u001b[0mFalse\u001b[0m\u001b[0;34m\u001b[0m\u001b[0m\n\u001b[0m",
        "\u001b[0;31mTypeError\u001b[0m: 'tuple' object does not support item assignment"
       ]
      }
     ],
     "prompt_number": 9
    },
    {
     "cell_type": "code",
     "collapsed": false,
     "input": [
      "t[0:2], False, t[3:]"
     ],
     "language": "python",
     "metadata": {},
     "outputs": [
      {
       "metadata": {},
       "output_type": "pyout",
       "prompt_number": 5,
       "text": [
        "((), False, ())"
       ]
      }
     ],
     "prompt_number": 5
    },
    {
     "cell_type": "code",
     "collapsed": false,
     "input": [
      "## the above it \n",
      "## not what we wanted... need to concatenate\n",
      "t[0:2] + False + t[3:]"
     ],
     "language": "python",
     "metadata": {},
     "outputs": [
      {
       "ename": "TypeError",
       "evalue": "can only concatenate tuple (not \"bool\") to tuple",
       "output_type": "pyerr",
       "traceback": [
        "\u001b[0;31m---------------------------------------------------------------------------\u001b[0m\n\u001b[0;31mTypeError\u001b[0m                                 Traceback (most recent call last)",
        "\u001b[0;32m<ipython-input-6-73d4c94ec2bf>\u001b[0m in \u001b[0;36m<module>\u001b[0;34m()\u001b[0m\n\u001b[1;32m      1\u001b[0m \u001b[0;31m## the above it\u001b[0m\u001b[0;34m\u001b[0m\u001b[0;34m\u001b[0m\u001b[0m\n\u001b[1;32m      2\u001b[0m \u001b[0;31m## not what we wanted... need to concatenate\u001b[0m\u001b[0;34m\u001b[0m\u001b[0;34m\u001b[0m\u001b[0m\n\u001b[0;32m----> 3\u001b[0;31m \u001b[0mt\u001b[0m\u001b[0;34m[\u001b[0m\u001b[0;36m0\u001b[0m\u001b[0;34m:\u001b[0m\u001b[0;36m2\u001b[0m\u001b[0;34m]\u001b[0m \u001b[0;34m+\u001b[0m \u001b[0mFalse\u001b[0m \u001b[0;34m+\u001b[0m \u001b[0mt\u001b[0m\u001b[0;34m[\u001b[0m\u001b[0;36m3\u001b[0m\u001b[0;34m:\u001b[0m\u001b[0;34m]\u001b[0m\u001b[0;34m\u001b[0m\u001b[0m\n\u001b[0m",
        "\u001b[0;31mTypeError\u001b[0m: can only concatenate tuple (not \"bool\") to tuple"
       ]
      }
     ],
     "prompt_number": 6
    },
    {
     "cell_type": "code",
     "collapsed": false,
     "input": [
      "y = t[0:2] + (False,) + t[3:]\n",
      "print y"
     ],
     "language": "python",
     "metadata": {},
     "outputs": [
      {
       "output_type": "stream",
       "stream": "stdout",
       "text": [
        "(False,)\n"
       ]
      }
     ],
     "prompt_number": 7
    },
    {
     "cell_type": "code",
     "collapsed": false,
     "input": [
      "t * 2"
     ],
     "language": "python",
     "metadata": {},
     "outputs": [
      {
       "output_type": "pyout",
       "prompt_number": 13,
       "text": [
        "(12, 'monty', True, -1230000.0, 12, 'monty', True, -1230000.0)"
       ]
      }
     ],
     "prompt_number": 13
    },
    {
     "cell_type": "markdown",
     "metadata": {},
     "source": [
      "Tuples are most commonly used in functions which return multiple arguments."
     ]
    },
    {
     "cell_type": "markdown",
     "metadata": {},
     "source": [
      "## Lists\n",
      "### Lists are denoted with square brackets"
     ]
    },
    {
     "cell_type": "code",
     "collapsed": false,
     "input": [
      "v = [1,2,3]\n",
      "print len(v)\n",
      "print type(v)"
     ],
     "language": "python",
     "metadata": {},
     "outputs": [
      {
       "output_type": "stream",
       "stream": "stdout",
       "text": [
        "3\n",
        "<type 'list'>\n"
       ]
      }
     ],
     "prompt_number": 34
    },
    {
     "cell_type": "code",
     "collapsed": false,
     "input": [
      "v[0:2]"
     ],
     "language": "python",
     "metadata": {},
     "outputs": [
      {
       "metadata": {},
       "output_type": "pyout",
       "prompt_number": 12,
       "text": [
        "[1, 2]"
       ]
      }
     ],
     "prompt_number": 12
    },
    {
     "cell_type": "code",
     "collapsed": false,
     "input": [
      "v = [\"eggs\", \"spam\", -1, (\"monty\",\"python\"), [-1.2,-3.5]]\n",
      "len(v)"
     ],
     "language": "python",
     "metadata": {},
     "outputs": [
      {
       "output_type": "pyout",
       "prompt_number": 16,
       "text": [
        "5"
       ]
      }
     ],
     "prompt_number": 16
    },
    {
     "cell_type": "code",
     "collapsed": false,
     "input": [
      "v[0] =\"green egg\"\n",
      "v[1] += \",love it.\"\n",
      "v[-1]"
     ],
     "language": "python",
     "metadata": {},
     "outputs": [
      {
       "output_type": "pyout",
       "prompt_number": 17,
       "text": [
        "[-1.2, -3.5]"
       ]
      }
     ],
     "prompt_number": 17
    },
    {
     "cell_type": "code",
     "collapsed": false,
     "input": [
      "v[-1][1] = None\n",
      "print v"
     ],
     "language": "python",
     "metadata": {},
     "outputs": [
      {
       "output_type": "stream",
       "stream": "stdout",
       "text": [
        "['green egg', 'spam,love it.', -1, ('monty', 'python'), [-1.2, None]]"
       ]
      }
     ],
     "prompt_number": 18
    },
    {
     "cell_type": "code",
     "collapsed": false,
     "input": [
      "v = v[2:]\n",
      "print v"
     ],
     "language": "python",
     "metadata": {},
     "outputs": [
      {
       "output_type": "stream",
       "stream": "stdout",
       "text": [
        "[-1, ('monty', 'python'), [-1.2, None]]"
       ]
      }
     ],
     "prompt_number": 19
    },
    {
     "cell_type": "code",
     "collapsed": true,
     "input": [
      "# let's make a proto-array out of nested lists\n",
      "vv = [ [1,2], [3,4] ]"
     ],
     "language": "python",
     "metadata": {},
     "outputs": [],
     "prompt_number": 14
    },
    {
     "cell_type": "code",
     "collapsed": false,
     "input": [
      "print len(vv)"
     ],
     "language": "python",
     "metadata": {},
     "outputs": [
      {
       "output_type": "stream",
       "stream": "stdout",
       "text": [
        "2\n"
       ]
      }
     ],
     "prompt_number": 15
    },
    {
     "cell_type": "code",
     "collapsed": false,
     "input": [
      "determinant = vv[0][0] * vv[1][1] - vv[0][1] * vv[1][0]\n",
      "print determinant"
     ],
     "language": "python",
     "metadata": {},
     "outputs": [
      {
       "output_type": "stream",
       "stream": "stdout",
       "text": [
        "-2\n"
       ]
      }
     ],
     "prompt_number": 16
    },
    {
     "cell_type": "markdown",
     "metadata": {},
     "source": [
      "the main point here: lists are **changeable**\n",
      "\n",
      "[back to slides]"
     ]
    },
    {
     "cell_type": "markdown",
     "metadata": {},
     "source": [
      "### Lists can be Extended and Appended"
     ]
    },
    {
     "cell_type": "code",
     "collapsed": false,
     "input": [
      "v = [1,2,3]\n",
      "v.append(4)\n",
      "v.append([-5])\n",
      "print v"
     ],
     "language": "python",
     "metadata": {},
     "outputs": [
      {
       "output_type": "stream",
       "stream": "stdout",
       "text": [
        "[1, 2, 3, 4, [-5]]\n"
       ]
      }
     ],
     "prompt_number": 24
    },
    {
     "cell_type": "markdown",
     "metadata": {},
     "source": [
      "Note: lists can be considered objects.  **Objects** are collections of data and associated\n",
      "**methods**.  In the case of a list, ``append`` is a method: it is a function\n",
      "associated with the object."
     ]
    },
    {
     "cell_type": "code",
     "collapsed": false,
     "input": [
      "v = v[:4]\n",
      "w = ['elderberries', 'eggs']\n",
      "print v + w"
     ],
     "language": "python",
     "metadata": {},
     "outputs": [
      {
       "output_type": "stream",
       "stream": "stdout",
       "text": [
        "[1, 2, 3, 4, 'elderberries', 'eggs']\n"
       ]
      }
     ],
     "prompt_number": 25
    },
    {
     "cell_type": "code",
     "collapsed": false,
     "input": [
      "print v"
     ],
     "language": "python",
     "metadata": {},
     "outputs": [
      {
       "output_type": "stream",
       "stream": "stdout",
       "text": [
        "[1, 2, 3, 4]\n"
       ]
      }
     ],
     "prompt_number": 26
    },
    {
     "cell_type": "code",
     "collapsed": false,
     "input": [
      "v.extend(w)\n",
      "print v"
     ],
     "language": "python",
     "metadata": {},
     "outputs": [
      {
       "output_type": "stream",
       "stream": "stdout",
       "text": [
        "[1, 2, 3, 4, 'elderberries', 'eggs']\n"
       ]
      }
     ],
     "prompt_number": 27
    },
    {
     "cell_type": "code",
     "collapsed": false,
     "input": [
      "v.pop()"
     ],
     "language": "python",
     "metadata": {},
     "outputs": [
      {
       "metadata": {},
       "output_type": "pyout",
       "prompt_number": 28,
       "text": [
        "'eggs'"
       ]
      }
     ],
     "prompt_number": 28
    },
    {
     "cell_type": "code",
     "collapsed": false,
     "input": [
      "print v"
     ],
     "language": "python",
     "metadata": {},
     "outputs": [
      {
       "output_type": "stream",
       "stream": "stdout",
       "text": [
        "[1, 2, 3, 4, 'elderberries']\n"
       ]
      }
     ],
     "prompt_number": 29
    },
    {
     "cell_type": "code",
     "collapsed": false,
     "input": [
      "v.pop(0) ## pop the first element"
     ],
     "language": "python",
     "metadata": {},
     "outputs": [
      {
       "metadata": {},
       "output_type": "pyout",
       "prompt_number": 30,
       "text": [
        "1"
       ]
      }
     ],
     "prompt_number": 30
    },
    {
     "cell_type": "code",
     "collapsed": false,
     "input": [
      "print v"
     ],
     "language": "python",
     "metadata": {},
     "outputs": [
      {
       "output_type": "stream",
       "stream": "stdout",
       "text": [
        "[2, 3, 4, 'elderberries']\n"
       ]
      }
     ],
     "prompt_number": 31
    },
    {
     "cell_type": "markdown",
     "metadata": {},
     "source": [
      "#### Useful list methods:\n",
      "\n",
      "* `.append()`: adds a new element\n",
      " * `.extend()`: concatenates a list/element\n",
      " * `.pop()`: remove an element"
     ]
    },
    {
     "cell_type": "markdown",
     "metadata": {},
     "source": [
      "### Lists can be searched, sorted, & counted"
     ]
    },
    {
     "cell_type": "code",
     "collapsed": false,
     "input": [
      "v = [1, 3, 2, 3, 4]\n",
      "v.sort() ; print v"
     ],
     "language": "python",
     "metadata": {},
     "outputs": [
      {
       "output_type": "stream",
       "stream": "stdout",
       "text": [
        "[1, 2, 3, 3, 4]\n"
       ]
      }
     ],
     "prompt_number": 32
    },
    {
     "cell_type": "markdown",
     "metadata": {},
     "source": [
      "`reverse` is a **keyword** of the `.sort()` method"
     ]
    },
    {
     "cell_type": "code",
     "collapsed": false,
     "input": [
      "v.sort(reverse=True) ; print v"
     ],
     "language": "python",
     "metadata": {},
     "outputs": [
      {
       "output_type": "stream",
       "stream": "stdout",
       "text": [
        "[4, 3, 3, 2, 1]\n"
       ]
      }
     ],
     "prompt_number": 33
    },
    {
     "cell_type": "markdown",
     "metadata": {},
     "source": [
      "`.sort()` changes the the list in place "
     ]
    },
    {
     "cell_type": "code",
     "collapsed": false,
     "input": [
      "v.index(4)   ## lookup the index of the entry 4"
     ],
     "language": "python",
     "metadata": {},
     "outputs": [
      {
       "output_type": "pyout",
       "prompt_number": 31,
       "text": [
        "1"
       ]
      }
     ],
     "prompt_number": 31
    },
    {
     "cell_type": "code",
     "collapsed": false,
     "input": [
      "v.index(3)"
     ],
     "language": "python",
     "metadata": {},
     "outputs": [
      {
       "output_type": "pyout",
       "prompt_number": 32,
       "text": [
        "2"
       ]
      }
     ],
     "prompt_number": 32
    },
    {
     "cell_type": "code",
     "collapsed": false,
     "input": [
      "v.count(3)"
     ],
     "language": "python",
     "metadata": {},
     "outputs": [
      {
       "output_type": "pyout",
       "prompt_number": 33,
       "text": [
        "2"
       ]
      }
     ],
     "prompt_number": 33
    },
    {
     "cell_type": "code",
     "collapsed": false,
     "input": [
      "v.insert(0, \"it's full of stars\") ; print v"
     ],
     "language": "python",
     "metadata": {},
     "outputs": [
      {
       "output_type": "stream",
       "stream": "stdout",
       "text": [
        "[\"it's full of stars\", 'elderberries', 4, 3, 3, 2, 1]"
       ]
      }
     ],
     "prompt_number": 34
    },
    {
     "cell_type": "code",
     "collapsed": false,
     "input": [
      "v.remove(1) ; print v"
     ],
     "language": "python",
     "metadata": {},
     "outputs": [
      {
       "output_type": "stream",
       "stream": "stdout",
       "text": [
        "[\"it's full of stars\", 'elderberries', 4, 3, 3, 2]"
       ]
      }
     ],
     "prompt_number": 35
    },
    {
     "cell_type": "markdown",
     "metadata": {},
     "source": [
      "### Using IPython to learn more\n",
      "\n",
      "IPython is your new best friend: it's tab-completion allows you to\n",
      "explore all methods available to an object.  (This only works in IPython)\n",
      "\n",
      "Type\n",
      "```\n",
      "v.\n",
      "```\n",
      "and then the tab key to see all the available methods:"
     ]
    },
    {
     "cell_type": "code",
     "collapsed": false,
     "input": [
      "v"
     ],
     "language": "python",
     "metadata": {},
     "outputs": [
      {
       "metadata": {},
       "output_type": "pyout",
       "prompt_number": 36,
       "text": [
        "[1, 2, 3]"
       ]
      }
     ],
     "prompt_number": 36
    },
    {
     "cell_type": "markdown",
     "metadata": {},
     "source": [
      "Once you find a method, type (for example)\n",
      "```\n",
      "v.index?\n",
      "```\n",
      "and press shift-enter: you'll see the documentation of the method"
     ]
    },
    {
     "cell_type": "code",
     "collapsed": false,
     "input": [
      "v.index"
     ],
     "language": "python",
     "metadata": {},
     "outputs": [
      {
       "metadata": {},
       "output_type": "pyout",
       "prompt_number": 35,
       "text": [
        "<function index>"
       ]
      }
     ],
     "prompt_number": 35
    },
    {
     "cell_type": "markdown",
     "metadata": {},
     "source": [
      "**This is probably the most important thing you'll learn today**"
     ]
    },
    {
     "cell_type": "markdown",
     "metadata": {},
     "source": [
      "### Iterating over Lists"
     ]
    },
    {
     "cell_type": "code",
     "collapsed": false,
     "input": [
      "a = ['cat', 'window', 'defenestrate']\n",
      "for x in a:\n",
      "    print x, len(x)"
     ],
     "language": "python",
     "metadata": {},
     "outputs": [
      {
       "output_type": "stream",
       "stream": "stdout",
       "text": [
        "cat 3\n",
        "window 6\n",
        "defenestrate 12"
       ]
      }
     ],
     "prompt_number": 37
    },
    {
     "cell_type": "code",
     "collapsed": false,
     "input": [
      "for i,x in enumerate(a):\n",
      "    print i, x, len(x)"
     ],
     "language": "python",
     "metadata": {},
     "outputs": [
      {
       "output_type": "stream",
       "stream": "stdout",
       "text": [
        "0 cat 3\n",
        "1 window 6\n",
        "2 defenestrate 12"
       ]
      }
     ],
     "prompt_number": 38
    },
    {
     "cell_type": "code",
     "collapsed": false,
     "input": [
      "for x in a:\n",
      "    print x,"
     ],
     "language": "python",
     "metadata": {},
     "outputs": [
      {
       "output_type": "stream",
       "stream": "stdout",
       "text": [
        "cat window defenestrate"
       ]
      }
     ],
     "prompt_number": 39
    },
    {
     "cell_type": "markdown",
     "metadata": {},
     "source": [
      "The syntax for iteration is...  \n",
      "\n",
      "    for variable_name in iterable:\n",
      "       # do something with variable_name"
     ]
    },
    {
     "cell_type": "markdown",
     "metadata": {},
     "source": [
      "### The ``range()`` function"
     ]
    },
    {
     "cell_type": "markdown",
     "metadata": {},
     "source": [
      "The `range()` function creates a list of integers"
     ]
    },
    {
     "cell_type": "code",
     "collapsed": false,
     "input": [
      "x = range(4)\n",
      "print x"
     ],
     "language": "python",
     "metadata": {},
     "outputs": [
      {
       "output_type": "stream",
       "stream": "stdout",
       "text": [
        "[0, 1, 2, 3]\n"
       ]
      }
     ],
     "prompt_number": 37
    },
    {
     "cell_type": "code",
     "collapsed": false,
     "input": [
      "total = 0\n",
      "for val in range(4):\n",
      "    total += val\n",
      "    print \"By adding \" + str(val) + \\\n",
      "          \" the total is now \" + str(total)"
     ],
     "language": "python",
     "metadata": {},
     "outputs": [
      {
       "output_type": "stream",
       "stream": "stdout",
       "text": [
        "By adding 0 the total is now 0\n",
        "By adding 1 the total is now 1\n",
        "By adding 2 the total is now 3\n",
        "By adding 3 the total is now 6\n"
       ]
      }
     ],
     "prompt_number": 38
    },
    {
     "cell_type": "markdown",
     "metadata": {},
     "source": [
      "\n",
      "`range`([`start`,] `stop`[, `step`])\n",
      "\u2192 list of integers"
     ]
    },
    {
     "cell_type": "code",
     "collapsed": false,
     "input": [
      "total = 0\n",
      "for val in range(1, 10, 2):\n",
      "    total += val\n",
      "    print \"By adding \" + str(val) + \\\n",
      "          \" the total is now \" + str(total)"
     ],
     "language": "python",
     "metadata": {},
     "outputs": [
      {
       "output_type": "stream",
       "stream": "stdout",
       "text": [
        "By adding 1 the total is now 1\n",
        "By adding 3 the total is now 4\n",
        "By adding 5 the total is now 9\n",
        "By adding 7 the total is now 16\n",
        "By adding 9 the total is now 25\n"
       ]
      }
     ],
     "prompt_number": 39
    },
    {
     "cell_type": "code",
     "collapsed": false,
     "input": [
      "a = ['Mary', 'had', 'a', 'little', 'lamb']\n",
      "for i in range(len(a)):\n",
      "    print i, a[i]"
     ],
     "language": "python",
     "metadata": {},
     "outputs": [
      {
       "output_type": "stream",
       "stream": "stdout",
       "text": [
        "0 Mary\n",
        "1 had\n",
        "2 a\n",
        "3 little\n",
        "4 lamb"
       ]
      }
     ],
     "prompt_number": 43
    },
    {
     "cell_type": "markdown",
     "metadata": {},
     "source": [
      "**Quick Exercise:**\n",
      "\n",
      "Write a loop over the words in this list and print the words longer than three characters:"
     ]
    },
    {
     "cell_type": "code",
     "collapsed": false,
     "input": [
      "L = [\"Oh\", \"Say\", \"does\", \"that\", \"star\", \"spangled\", \"banner\", \"yet\", \"wave\"]\n"
     ],
     "language": "python",
     "metadata": {},
     "outputs": []
    },
    {
     "cell_type": "markdown",
     "metadata": {},
     "source": [
      "## Sets\n",
      "### Sets are denoted with a curly braces"
     ]
    },
    {
     "cell_type": "code",
     "collapsed": false,
     "input": [
      "{1,2,3,\"bingo\"}"
     ],
     "language": "python",
     "metadata": {},
     "outputs": [
      {
       "output_type": "pyout",
       "prompt_number": 45,
       "text": [
        "set(['bingo', 1, 2, 3])"
       ]
      }
     ],
     "prompt_number": 45
    },
    {
     "cell_type": "code",
     "collapsed": false,
     "input": [
      "print type({1,2,3,\"bingo\"})"
     ],
     "language": "python",
     "metadata": {},
     "outputs": [
      {
       "output_type": "stream",
       "stream": "stdout",
       "text": [
        "<type 'set'>"
       ]
      }
     ],
     "prompt_number": 47
    },
    {
     "cell_type": "code",
     "collapsed": false,
     "input": [
      "print  type({})"
     ],
     "language": "python",
     "metadata": {},
     "outputs": [
      {
       "output_type": "stream",
       "stream": "stdout",
       "text": [
        "<type 'dict'>"
       ]
      }
     ],
     "prompt_number": 48
    },
    {
     "cell_type": "code",
     "collapsed": false,
     "input": [
      "print type(set())"
     ],
     "language": "python",
     "metadata": {},
     "outputs": [
      {
       "output_type": "stream",
       "stream": "stdout",
       "text": [
        "<type 'set'>"
       ]
      }
     ],
     "prompt_number": 50
    },
    {
     "cell_type": "code",
     "collapsed": false,
     "input": [
      "set(\"spamIam\")"
     ],
     "language": "python",
     "metadata": {},
     "outputs": [
      {
       "output_type": "pyout",
       "prompt_number": 51,
       "text": [
        "set(['a', 'p', 's', 'm', 'I'])"
       ]
      }
     ],
     "prompt_number": 51
    },
    {
     "cell_type": "markdown",
     "metadata": {},
     "source": [
      "sets have unique elements. They can be\n",
      "compared, differenced, unionized, etc."
     ]
    },
    {
     "cell_type": "code",
     "collapsed": false,
     "input": [
      "a = set(\"sp\"); b = set(\"am\"); print a ; print b"
     ],
     "language": "python",
     "metadata": {},
     "outputs": [
      {
       "output_type": "stream",
       "stream": "stdout",
       "text": [
        "set(['p', 's'])\n",
        "set(['a', 'm'])"
       ]
      }
     ],
     "prompt_number": 52
    },
    {
     "cell_type": "code",
     "collapsed": false,
     "input": [
      "c = set([\"a\",\"m\"])\n",
      "c == b"
     ],
     "language": "python",
     "metadata": {},
     "outputs": [
      {
       "output_type": "pyout",
       "prompt_number": 53,
       "text": [
        "True"
       ]
      }
     ],
     "prompt_number": 53
    },
    {
     "cell_type": "code",
     "collapsed": false,
     "input": [
      "\"p\" in a"
     ],
     "language": "python",
     "metadata": {},
     "outputs": [
      {
       "output_type": "pyout",
       "prompt_number": 54,
       "text": [
        "True"
       ]
      }
     ],
     "prompt_number": 54
    },
    {
     "cell_type": "code",
     "collapsed": false,
     "input": [
      "\"ps\" in a"
     ],
     "language": "python",
     "metadata": {},
     "outputs": [
      {
       "output_type": "pyout",
       "prompt_number": 55,
       "text": [
        "False"
       ]
      }
     ],
     "prompt_number": 55
    },
    {
     "cell_type": "code",
     "collapsed": false,
     "input": [
      "q = set(\"spamIam\")\n",
      "a.issubset(q)"
     ],
     "language": "python",
     "metadata": {},
     "outputs": [
      {
       "output_type": "pyout",
       "prompt_number": 57,
       "text": [
        "True"
       ]
      }
     ],
     "prompt_number": 57
    },
    {
     "cell_type": "code",
     "collapsed": false,
     "input": [
      "a | b"
     ],
     "language": "python",
     "metadata": {},
     "outputs": [
      {
       "output_type": "pyout",
       "prompt_number": 58,
       "text": [
        "set(['a', 'p', 's', 'm'])"
       ]
      }
     ],
     "prompt_number": 58
    },
    {
     "cell_type": "code",
     "collapsed": false,
     "input": [
      "q - (a | b)"
     ],
     "language": "python",
     "metadata": {},
     "outputs": [
      {
       "output_type": "pyout",
       "prompt_number": 59,
       "text": [
        "set(['I'])"
       ]
      }
     ],
     "prompt_number": 59
    },
    {
     "cell_type": "code",
     "collapsed": false,
     "input": [
      "q & (a | b)"
     ],
     "language": "python",
     "metadata": {},
     "outputs": [
      {
       "output_type": "pyout",
       "prompt_number": 60,
       "text": [
        "set(['a', 'p', 's', 'm'])"
       ]
      }
     ],
     "prompt_number": 60
    },
    {
     "cell_type": "markdown",
     "metadata": {},
     "source": [
      "Like lists, we can use as (unordered) buckets\n",
      "`.pop()` gives us a random element"
     ]
    },
    {
     "cell_type": "code",
     "collapsed": false,
     "input": [
      "# this is pretty volitile...wont be the same\n",
      "# order on all machines\n",
      "for i in q & (a | b):\n",
      "    print i, "
     ],
     "language": "python",
     "metadata": {},
     "outputs": [
      {
       "output_type": "stream",
       "stream": "stdout",
       "text": [
        "a p s m"
       ]
      }
     ],
     "prompt_number": 62
    },
    {
     "cell_type": "code",
     "collapsed": true,
     "input": [
      "q.remove(\"a\")"
     ],
     "language": "python",
     "metadata": {},
     "outputs": [],
     "prompt_number": 63
    },
    {
     "cell_type": "code",
     "collapsed": false,
     "input": [
      "q.pop()"
     ],
     "language": "python",
     "metadata": {},
     "outputs": [
      {
       "output_type": "pyout",
       "prompt_number": 64,
       "text": [
        "'p'"
       ]
      }
     ],
     "prompt_number": 64
    },
    {
     "cell_type": "code",
     "collapsed": false,
     "input": [
      "print q.pop()\n",
      "print q.pop()"
     ],
     "language": "python",
     "metadata": {},
     "outputs": [
      {
       "output_type": "stream",
       "stream": "stdout",
       "text": [
        "s\n",
        "m"
       ]
      }
     ],
     "prompt_number": 65
    },
    {
     "cell_type": "code",
     "collapsed": false,
     "input": [
      "print q.pop()"
     ],
     "language": "python",
     "metadata": {},
     "outputs": [
      {
       "output_type": "stream",
       "stream": "stdout",
       "text": [
        "I"
       ]
      }
     ],
     "prompt_number": 66
    },
    {
     "cell_type": "code",
     "collapsed": false,
     "input": [
      "q.pop()"
     ],
     "language": "python",
     "metadata": {},
     "outputs": [
      {
       "ename": "KeyError",
       "evalue": "'pop from an empty set'",
       "output_type": "pyerr",
       "traceback": [
        "\u001b[0;31m---------------------------------------------------------------------------\u001b[0m\n\u001b[0;31mKeyError\u001b[0m                                  Traceback (most recent call last)",
        "\u001b[0;32m/Users/jbloom/Classes/python-bootcamp/DataFiles_and_Notebooks/02_AdvancedDataStructures/<ipython-input-68-16da542f89c5>\u001b[0m in \u001b[0;36m<module>\u001b[0;34m()\u001b[0m\n\u001b[0;32m----> 1\u001b[0;31m \u001b[0mq\u001b[0m\u001b[0;34m.\u001b[0m\u001b[0mpop\u001b[0m\u001b[0;34m(\u001b[0m\u001b[0;34m)\u001b[0m\u001b[0;34m\u001b[0m\u001b[0m\n\u001b[0m",
        "\u001b[0;31mKeyError\u001b[0m: 'pop from an empty set'"
       ]
      }
     ],
     "prompt_number": 68
    },
    {
     "cell_type": "markdown",
     "metadata": {},
     "source": [
      "## Dictionaries\n",
      "### 4 ways to make a Dictionary"
     ]
    },
    {
     "cell_type": "code",
     "collapsed": true,
     "input": [
      "# number 1... curly braces & colons\n",
      "d = {\"favorite cat\": None, \"favorite spam\": \"all\"}"
     ],
     "language": "python",
     "metadata": {},
     "outputs": [],
     "prompt_number": 42
    },
    {
     "cell_type": "code",
     "collapsed": false,
     "input": [
      "# number 2\n",
      "d = dict(one = 1, two=2,cat = 'dog') ; print d"
     ],
     "language": "python",
     "metadata": {},
     "outputs": [
      {
       "output_type": "stream",
       "stream": "stdout",
       "text": [
        "{'cat': 'dog', 'two': 2, 'one': 1}"
       ]
      }
     ],
     "prompt_number": 70
    },
    {
     "cell_type": "code",
     "collapsed": false,
     "input": [
      "# number 3 ... just start filling in items/keys\n",
      "d = {}  # empty dictionary\n",
      "d['cat'] = 'dog'\n",
      "d['one'] = 1\n",
      "d['two'] = 2\n",
      "d"
     ],
     "language": "python",
     "metadata": {},
     "outputs": [
      {
       "output_type": "pyout",
       "prompt_number": 71,
       "text": [
        "{'cat': 'dog', 'one': 1, 'two': 2}"
       ]
      }
     ],
     "prompt_number": 71
    },
    {
     "cell_type": "code",
     "collapsed": false,
     "input": [
      "# number 4... start with a list of tuples\n",
      "mylist = [(\"cat\",\"dog\"), (\"one\",1),(\"two\",2)]\n",
      "print dict(mylist)"
     ],
     "language": "python",
     "metadata": {},
     "outputs": [
      {
       "output_type": "stream",
       "stream": "stdout",
       "text": [
        "{'one': 1, 'two': 2, 'cat': 'dog'}"
       ]
      }
     ],
     "prompt_number": 72
    },
    {
     "cell_type": "code",
     "collapsed": false,
     "input": [
      "dict(mylist) == d"
     ],
     "language": "python",
     "metadata": {},
     "outputs": [
      {
       "output_type": "pyout",
       "prompt_number": 73,
       "text": [
        "True"
       ]
      }
     ],
     "prompt_number": 73
    },
    {
     "cell_type": "markdown",
     "metadata": {},
     "source": [
      "#### Dictionaries: they can be complicated (in a good way) ####"
     ]
    },
    {
     "cell_type": "markdown",
     "metadata": {},
     "source": [
      "Note that there is no guaranteed order in a dictionary!"
     ]
    },
    {
     "cell_type": "code",
     "collapsed": true,
     "input": [
      "d = {\"favorite cat\": None, \"favorite spam\": \"all\"}"
     ],
     "language": "python",
     "metadata": {},
     "outputs": [],
     "prompt_number": 75
    },
    {
     "cell_type": "code",
     "collapsed": false,
     "input": [
      "print d[0]  # this breaks!  Dictionaries have no order"
     ],
     "language": "python",
     "metadata": {},
     "outputs": [
      {
       "ename": "KeyError",
       "evalue": "0",
       "output_type": "pyerr",
       "traceback": [
        "\u001b[0;31m---------------------------------------------------------------------------\u001b[0m\n\u001b[0;31mKeyError\u001b[0m                                  Traceback (most recent call last)",
        "\u001b[0;32m<ipython-input-43-21ddf1fce1c6>\u001b[0m in \u001b[0;36m<module>\u001b[0;34m()\u001b[0m\n\u001b[0;32m----> 1\u001b[0;31m \u001b[0;32mprint\u001b[0m \u001b[0md\u001b[0m\u001b[0;34m[\u001b[0m\u001b[0;36m0\u001b[0m\u001b[0;34m]\u001b[0m  \u001b[0;31m# this breaks!  Dictionaries have no order\u001b[0m\u001b[0;34m\u001b[0m\u001b[0m\n\u001b[0m",
        "\u001b[0;31mKeyError\u001b[0m: 0"
       ]
      }
     ],
     "prompt_number": 43
    },
    {
     "cell_type": "code",
     "collapsed": false,
     "input": [
      "d[\"favorite spam\"]"
     ],
     "language": "python",
     "metadata": {},
     "outputs": [
      {
       "metadata": {},
       "output_type": "pyout",
       "prompt_number": 45,
       "text": [
        "'all'"
       ]
      }
     ],
     "prompt_number": 45
    },
    {
     "cell_type": "markdown",
     "metadata": {},
     "source": [
      "Dictionaries can contain dictionaries!"
     ]
    },
    {
     "cell_type": "code",
     "collapsed": false,
     "input": [
      "d = {'favorites': {'cat': None, 'spam': 'all'},\n",
      "     'least favorite': {'cat': 'all', 'spam': None}}\n",
      "print d['least favorite']['cat']"
     ],
     "language": "python",
     "metadata": {},
     "outputs": [
      {
       "output_type": "stream",
       "stream": "stdout",
       "text": [
        "all\n"
       ]
      }
     ],
     "prompt_number": 46
    },
    {
     "cell_type": "markdown",
     "metadata": {},
     "source": [
      "remember: the backslash (\\) allows you to across break lines. Not technically needed when defining a dictionary or list"
     ]
    },
    {
     "cell_type": "code",
     "collapsed": true,
     "input": [
      "phone_numbers = {'family': [('mom','642-2322'),('dad','534-2311')],\n",
      "                 'friends': [('Billy','652-2212')]}"
     ],
     "language": "python",
     "metadata": {},
     "outputs": [],
     "prompt_number": 47
    },
    {
     "cell_type": "code",
     "collapsed": false,
     "input": [
      "for group_type in ['friends', 'family']:\n",
      "    print \"Group \" + group_type + \":\"\n",
      "    for info in phone_numbers[group_type]:\n",
      "        print \" \",info[0], info[1]"
     ],
     "language": "python",
     "metadata": {},
     "outputs": [
      {
       "output_type": "stream",
       "stream": "stdout",
       "text": [
        "Group friends:\n",
        "  Billy 652-2212\n",
        "Group family:\n",
        "  mom 642-2322\n",
        "  dad 534-2311"
       ]
      }
     ],
     "prompt_number": 80
    },
    {
     "cell_type": "code",
     "collapsed": false,
     "input": [
      "# this will return a list, but you dont know in what order! \n",
      "phone_numbers.keys()"
     ],
     "language": "python",
     "metadata": {},
     "outputs": [
      {
       "output_type": "pyout",
       "prompt_number": 81,
       "text": [
        "['friends', 'family']"
       ]
      }
     ],
     "prompt_number": 81
    },
    {
     "cell_type": "code",
     "collapsed": false,
     "input": [
      "phone_numbers.values()"
     ],
     "language": "python",
     "metadata": {},
     "outputs": [
      {
       "output_type": "pyout",
       "prompt_number": 82,
       "text": [
        "[[('Billy', '652-2212')], [('mom', '642-2322'), ('dad', '534-2311')]]"
       ]
      }
     ],
     "prompt_number": 82
    },
    {
     "cell_type": "markdown",
     "metadata": {},
     "source": [
      "`.keys()` and `.values()`: are *methods* on dictionaries (just like `.append()` and `.extend()` on lists)"
     ]
    },
    {
     "cell_type": "code",
     "collapsed": false,
     "input": [
      "for group_type in phone_numbers.keys():\n",
      "    print \"Group \" + group_type + \":\"\n",
      "    for info in phone_numbers[group_type]:\n",
      "        print \" \",info[0], info[1]"
     ],
     "language": "python",
     "metadata": {},
     "outputs": [
      {
       "output_type": "stream",
       "stream": "stdout",
       "text": [
        "Group friends:\n",
        "  Billy 652-2212\n",
        "Group family:\n",
        "  mom 642-2322\n",
        "  dad 534-2311"
       ]
      }
     ],
     "prompt_number": 83
    },
    {
     "cell_type": "markdown",
     "metadata": {},
     "source": [
      "we cannot ensure ordering here of the groups"
     ]
    },
    {
     "cell_type": "code",
     "collapsed": false,
     "input": [
      "groups = phone_numbers.keys()\n",
      "groups.sort()\n",
      "for group_type in groups:\n",
      "    print \"Group \" + group_type + \":\"\n",
      "    for info in phone_numbers[group_type]:\n",
      "        print \" \",info[0], info[1]"
     ],
     "language": "python",
     "metadata": {},
     "outputs": [
      {
       "output_type": "stream",
       "stream": "stdout",
       "text": [
        "Group family:\n",
        "  mom 642-2322\n",
        "  dad 534-2311\n",
        "Group friends:\n",
        "  Billy 652-2212"
       ]
      }
     ],
     "prompt_number": 84
    },
    {
     "cell_type": "markdown",
     "metadata": {},
     "source": [
      "`.iteritems()` is a handy method,\n",
      "returning key,value pairs with each iteration"
     ]
    },
    {
     "cell_type": "code",
     "collapsed": false,
     "input": [
      "for group_type, vals in phone_numbers.iteritems():\n",
      "    print \"Group \" + group_type + \":\"\n",
      "    for info in vals:\n",
      "        print \" \",info[0], info[1]"
     ],
     "language": "python",
     "metadata": {},
     "outputs": [
      {
       "output_type": "stream",
       "stream": "stdout",
       "text": [
        "Group friends:\n",
        "  Billy 652-2212\n",
        "Group family:\n",
        "  mom 642-2322\n",
        "  dad 534-2311\n"
       ]
      }
     ],
     "prompt_number": 48
    },
    {
     "cell_type": "markdown",
     "metadata": {},
     "source": [
      "Some examples of getting values:"
     ]
    },
    {
     "cell_type": "code",
     "collapsed": false,
     "input": [
      "phone_numbers['co-workers']"
     ],
     "language": "python",
     "metadata": {},
     "outputs": [
      {
       "ename": "KeyError",
       "evalue": "'co-workers'",
       "output_type": "pyerr",
       "traceback": [
        "\u001b[0;31m---------------------------------------------------------------------------\u001b[0m\n\u001b[0;31mKeyError\u001b[0m                                  Traceback (most recent call last)",
        "\u001b[0;32m/Users/jbloom/Classes/python-bootcamp/DataFiles_and_Notebooks/02_AdvancedDataStructures/<ipython-input-86-92d1a5b9b960>\u001b[0m in \u001b[0;36m<module>\u001b[0;34m()\u001b[0m\n\u001b[0;32m----> 1\u001b[0;31m \u001b[0mphone_numbers\u001b[0m\u001b[0;34m[\u001b[0m\u001b[0;34m'co-workers'\u001b[0m\u001b[0;34m]\u001b[0m\u001b[0;34m\u001b[0m\u001b[0m\n\u001b[0m",
        "\u001b[0;31mKeyError\u001b[0m: 'co-workers'"
       ]
      }
     ],
     "prompt_number": 86
    },
    {
     "cell_type": "code",
     "collapsed": false,
     "input": [
      "phone_numbers.has_key('co-workers')"
     ],
     "language": "python",
     "metadata": {},
     "outputs": [
      {
       "output_type": "pyout",
       "prompt_number": 87,
       "text": [
        "False"
       ]
      }
     ],
     "prompt_number": 87
    },
    {
     "cell_type": "code",
     "collapsed": false,
     "input": [
      "print phone_numbers.get('co-workers')"
     ],
     "language": "python",
     "metadata": {},
     "outputs": [
      {
       "output_type": "stream",
       "stream": "stdout",
       "text": [
        "None"
       ]
      }
     ],
     "prompt_number": 88
    },
    {
     "cell_type": "code",
     "collapsed": false,
     "input": [
      "phone_numbers.get('friends') == phone_numbers['friends']"
     ],
     "language": "python",
     "metadata": {},
     "outputs": [
      {
       "metadata": {},
       "output_type": "pyout",
       "prompt_number": 50,
       "text": [
        "True"
       ]
      }
     ],
     "prompt_number": 50
    },
    {
     "cell_type": "code",
     "collapsed": false,
     "input": [
      "print phone_numbers.get('co-workers', \"all alone\")"
     ],
     "language": "python",
     "metadata": {},
     "outputs": [
      {
       "output_type": "stream",
       "stream": "stdout",
       "text": [
        "all alone"
       ]
      }
     ],
     "prompt_number": 90
    },
    {
     "cell_type": "markdown",
     "metadata": {},
     "source": [
      "#### setting values ####\n",
      "\n",
      "you can edit the values of keys and also `.pop()` & `del` to remove certain keys"
     ]
    },
    {
     "cell_type": "code",
     "collapsed": false,
     "input": [
      "# add to the friends list\n",
      "phone_numbers['friends'].append((\"Marsha\",\"232-1121\"))\n",
      "print phone_numbers"
     ],
     "language": "python",
     "metadata": {},
     "outputs": [
      {
       "output_type": "stream",
       "stream": "stdout",
       "text": [
        "{'friends': [('Billy', '652-2212'), ('Marsha', '232-1121')], 'family': [('mom', '642-2322'), ('dad', '534-2311')]}"
       ]
      }
     ],
     "prompt_number": 91
    },
    {
     "cell_type": "code",
     "collapsed": false,
     "input": [
      "## billy's number changed\n",
      "phone_numbers['friends'][0][1] = \"532-1521\""
     ],
     "language": "python",
     "metadata": {},
     "outputs": [
      {
       "ename": "TypeError",
       "evalue": "'tuple' object does not support item assignment",
       "output_type": "pyerr",
       "traceback": [
        "\u001b[0;31m---------------------------------------------------------------------------\u001b[0m\n\u001b[0;31mTypeError\u001b[0m                                 Traceback (most recent call last)",
        "\u001b[0;32m/Users/jbloom/Classes/python-bootcamp/DataFiles_and_Notebooks/02_AdvancedDataStructures/<ipython-input-92-564c1535cc4d>\u001b[0m in \u001b[0;36m<module>\u001b[0;34m()\u001b[0m\n\u001b[1;32m      1\u001b[0m \u001b[0;31m## billy's number changed\u001b[0m\n\u001b[0;34m\u001b[0m\u001b[0m\n\u001b[0;32m----> 2\u001b[0;31m \u001b[0mphone_numbers\u001b[0m\u001b[0;34m[\u001b[0m\u001b[0;34m'friends'\u001b[0m\u001b[0;34m]\u001b[0m\u001b[0;34m[\u001b[0m\u001b[0;36m0\u001b[0m\u001b[0;34m]\u001b[0m\u001b[0;34m[\u001b[0m\u001b[0;36m1\u001b[0m\u001b[0;34m]\u001b[0m \u001b[0;34m=\u001b[0m \u001b[0;34m\"532-1521\"\u001b[0m\u001b[0;34m\u001b[0m\u001b[0m\n\u001b[0m",
        "\u001b[0;31mTypeError\u001b[0m: 'tuple' object does not support item assignment"
       ]
      }
     ],
     "prompt_number": 92
    },
    {
     "cell_type": "code",
     "collapsed": true,
     "input": [
      "phone_numbers['friends'][0] = (\"Billy\",\"532-1521\")"
     ],
     "language": "python",
     "metadata": {},
     "outputs": [],
     "prompt_number": 93
    },
    {
     "cell_type": "code",
     "collapsed": true,
     "input": [
      "## I lost all my friends preparing for this Python class\n",
      "phone_numbers['friends'] = [] # sets this to an empty list"
     ],
     "language": "python",
     "metadata": {},
     "outputs": [],
     "prompt_number": 94
    },
    {
     "cell_type": "code",
     "collapsed": false,
     "input": [
      "## remove the friends key altogether\n",
      "print phone_numbers.pop('friends')"
     ],
     "language": "python",
     "metadata": {},
     "outputs": [
      {
       "output_type": "stream",
       "stream": "stdout",
       "text": [
        "[]"
       ]
      }
     ],
     "prompt_number": 95
    },
    {
     "cell_type": "code",
     "collapsed": false,
     "input": [
      "print phone_numbers"
     ],
     "language": "python",
     "metadata": {},
     "outputs": [
      {
       "output_type": "stream",
       "stream": "stdout",
       "text": [
        "{'family': [('mom', '642-2322'), ('dad', '534-2311')]}"
       ]
      }
     ],
     "prompt_number": 96
    },
    {
     "cell_type": "code",
     "collapsed": true,
     "input": [
      "del phone_numbers['family']"
     ],
     "language": "python",
     "metadata": {},
     "outputs": [],
     "prompt_number": 97
    },
    {
     "cell_type": "code",
     "collapsed": false,
     "input": [
      "print phone_numbers"
     ],
     "language": "python",
     "metadata": {},
     "outputs": [
      {
       "output_type": "stream",
       "stream": "stdout",
       "text": [
        "{}"
       ]
      }
     ],
     "prompt_number": 98
    },
    {
     "cell_type": "markdown",
     "metadata": {},
     "source": [
      "`.update()` method is very handy, like `.append()` for lists"
     ]
    },
    {
     "cell_type": "code",
     "collapsed": false,
     "input": [
      "phone_numbers.update({\"friends\": [(\"Billy's Brother, Bob\", \"532-1521\")]})\n",
      "print phone_numbers"
     ],
     "language": "python",
     "metadata": {},
     "outputs": [
      {
       "output_type": "stream",
       "stream": "stdout",
       "text": [
        "{'friends': [(\"Billy's Brother, Bob\", '532-1521')]}"
       ]
      }
     ],
     "prompt_number": 99
    },
    {
     "cell_type": "markdown",
     "metadata": {},
     "source": [
      "### Dictionaries are used everywhere within Python..."
     ]
    },
    {
     "cell_type": "code",
     "collapsed": false,
     "input": [
      "# globals() and locals() store all global and local variables\n",
      "print globals().keys()[:10]"
     ],
     "language": "python",
     "metadata": {},
     "outputs": [
      {
       "output_type": "stream",
       "stream": "stdout",
       "text": [
        "['__', 'help', '_53', '_52', '_51', '_50', '_i53', '_i52', '__builtin__', '_i50']\n"
       ]
      }
     ],
     "prompt_number": 55
    },
    {
     "cell_type": "markdown",
     "metadata": {},
     "source": [
      "## List Comprehensions\n",
      "\n",
      "### A pythonic way of creating lists on-the-fly"
     ]
    },
    {
     "cell_type": "markdown",
     "metadata": {},
     "source": [
      "**Example:** imagine you want a list of all numbers from 0 to 100 which are divisible by 7 **or** 11"
     ]
    },
    {
     "cell_type": "code",
     "collapsed": false,
     "input": [
      "L = []\n",
      "for num in range(100):\n",
      "    if (num % 7 == 0) or (num % 11 == 0):\n",
      "        L.append(num)\n",
      "print L"
     ],
     "language": "python",
     "metadata": {},
     "outputs": [
      {
       "output_type": "stream",
       "stream": "stdout",
       "text": [
        "[0, 7, 11, 14, 21, 22, 28, 33, 35, 42, 44, 49, 55, 56, 63, 66, 70, 77, 84, 88, 91, 98, 99]\n"
       ]
      }
     ],
     "prompt_number": 69
    },
    {
     "cell_type": "markdown",
     "metadata": {},
     "source": [
      "We can also do this with a list comprehension:"
     ]
    },
    {
     "cell_type": "code",
     "collapsed": false,
     "input": [
      "L = [num for num in range(100) if (num % 7 == 0) or (num % 11 == 0)]\n",
      "print L"
     ],
     "language": "python",
     "metadata": {},
     "outputs": [
      {
       "output_type": "stream",
       "stream": "stdout",
       "text": [
        "[0, 7, 11, 14, 21, 22, 28, 33, 35, 42, 44, 49, 55, 56, 63, 66, 70, 77, 84, 88, 91, 98, 99]\n"
       ]
      }
     ],
     "prompt_number": 68
    },
    {
     "cell_type": "code",
     "collapsed": false,
     "input": [
      "# Can also operate on each element:\n",
      "L = [2 * num for num in range(100) if (num % 7 == 0) or (num % 11 == 0)]\n",
      "print L"
     ],
     "language": "python",
     "metadata": {},
     "outputs": [
      {
       "output_type": "stream",
       "stream": "stdout",
       "text": [
        "[0, 14, 22, 28, 42, 44, 56, 66, 70, 84, 88, 98, 110, 112, 126, 132, 140, 154, 168, 176, 182, 196, 198]\n"
       ]
      }
     ],
     "prompt_number": 70
    },
    {
     "cell_type": "markdown",
     "metadata": {},
     "source": [
      "**Example:** Below is a list of information on 50 of the largest near-earth asteroids.\n",
      "Given this list of asteroid information, let's find all asteroids with semi-major axis within 0.2AU of earth, and with eccentricities less than 0.5"
     ]
    },
    {
     "cell_type": "code",
     "collapsed": false,
     "input": [
      "# Each element is (name, semi-major axis (AU), eccentricity)\n",
      "# source: http://ssd.jpl.nasa.gov/sbdb_query.cgi\n",
      "\n",
      "Asteroids = [('Eros', 1.457837275957122, 0.2226677322184548),\n",
      "             ('Albert', 2.629209653851485, 0.5518811022529109),\n",
      "             ('Alinda', 2.47791280261711, 0.5676674552228237),\n",
      "             ('Ganymed', 2.662219621366759, 0.5340016644794664),\n",
      "             ('Amor', 1.918872951565462, 0.4355437855993322),\n",
      "             ('Icarus', 1.077945820173847, 0.8269180171639264),\n",
      "             ('Betulia', 2.196168966174901, 0.4878720902564831),\n",
      "             ('Geographos', 1.245602220135112, 0.3355126898707659),\n",
      "             ('Ivar', 1.863134640832567, 0.3970058130034478),\n",
      "             ('Toro', 1.367172953105907, 0.435970134894751),\n",
      "             ('Apollo', 1.470090974538168, 0.5598461058854183),\n",
      "             ('Antinous', 2.258514969230864, 0.6071050829508398),\n",
      "             ('Daedalus', 1.460835947228885, 0.6144717383940717),\n",
      "             ('Cerberus', 1.079952582993957, 0.4668563733679866),\n",
      "             ('Sisyphus', 1.893552140219631, 0.5384437280068848),\n",
      "             ('Quetzalcoatl', 2.544440279225005, 0.5704927969891997),\n",
      "             ('Boreas', 2.27258706352833, 0.4495424078136239),\n",
      "             ('Cuyo', 2.150237155456435, 0.5043265414919641),\n",
      "             ('Anteros', 1.430063572647112, 0.2560002724437839),\n",
      "             ('Tezcatlipoca', 1.709590986867144, 0.3646886552807826),\n",
      "             ('Midas', 1.77592109678863, 0.6503592026885856),\n",
      "             ('Baboquivari', 2.645885950895259, 0.5297597002225188),\n",
      "             ('Anza', 2.263937369149083, 0.5373098277646743),\n",
      "             ('Aten', 0.9668898875860793, 0.182788211989481),\n",
      "             ('Bacchus', 1.078127734751117, 0.3495255485012962),\n",
      "             ('Ra-Shalom', 0.8320837683465475, 0.4364068601876637),\n",
      "             ('Adonis', 1.874247025292526, 0.7640312144548637),\n",
      "             ('Tantalus', 1.290024436662532, 0.2990269565662268),\n",
      "             ('Aristaeus', 1.599497387539632, 0.50307041128526),\n",
      "             ('Oljato', 2.172235653489352, 0.7124473619695174),\n",
      "             ('Pele', 2.291492184725039, 0.5116420728567977),\n",
      "             ('Hephaistos', 2.160034615524031, 0.837433005470291),\n",
      "             ('Orthos', 2.404681826077209, 0.6569073533324519),\n",
      "             ('Hathor', 0.8442304480874677, 0.4498427208488246),\n",
      "             ('Beltrovata', 2.104432622303624, 0.4137883817689276),\n",
      "             ('Seneca', 2.517061390309602, 0.5709492132418454),\n",
      "             ('Krok', 2.151820681361753, 0.4477344382217356),\n",
      "             ('Eger', 1.404499810593699, 0.3542429406068184),\n",
      "             ('Florence', 1.768509662585488, 0.4226821702097068),\n",
      "             ('Nefertiti', 1.574397695004115, 0.2839854705717537),\n",
      "             ('Phaethon', 1.271283158413085, 0.8899340762416096),\n",
      "             ('Ul', 2.10194061701678, 0.3950997841409483),\n",
      "             ('Seleucus', 2.033515825165335, 0.4562294319485289),\n",
      "             ('McAuliffe', 1.878900406290174, 0.3690393863279488),\n",
      "             ('Syrinx', 2.469631379972903, 0.7433938156697156),\n",
      "             ('Orpheus', 1.209691416196726, 0.3227782901016956),\n",
      "             ('Khufu', 0.9894366115822131, 0.468549512916385),\n",
      "             ('Verenia', 2.093284996155801, 0.4865740217998032),\n",
      "             ('\"Don Quixote\"', 4.22211686971472, 0.713057182980361),\n",
      "             ('Mera', 1.644573399204704, 0.3200596592234483),]"
     ],
     "language": "python",
     "metadata": {},
     "outputs": [],
     "prompt_number": 82
    },
    {
     "cell_type": "code",
     "collapsed": false,
     "input": [
      "# first we'll build the list using loops.\n",
      "L = []\n",
      "for data in Asteroids:\n",
      "    name, a, e = data\n",
      "    if abs(a - 1) < 0.2 and e < 0.5:\n",
      "        L.append(name)\n",
      "print L"
     ],
     "language": "python",
     "metadata": {},
     "outputs": [
      {
       "output_type": "stream",
       "stream": "stdout",
       "text": [
        "['Cerberus', 'Aten', 'Bacchus', 'Ra-Shalom', 'Hathor', 'Khufu']\n"
       ]
      }
     ],
     "prompt_number": 83
    },
    {
     "cell_type": "code",
     "collapsed": false,
     "input": [
      "# now with a list comprehension...\n",
      "L = [name for (name, a, e) in Asteroids if abs(a - 1) < 0.2 and e < 0.5]\n",
      "print L"
     ],
     "language": "python",
     "metadata": {},
     "outputs": [
      {
       "output_type": "stream",
       "stream": "stdout",
       "text": [
        "['Cerberus', 'Aten', 'Bacchus', 'Ra-Shalom']\n"
       ]
      }
     ],
     "prompt_number": 73
    },
    {
     "cell_type": "markdown",
     "metadata": {},
     "source": [
      "Here is how we could create a dictionary from the list"
     ]
    },
    {
     "cell_type": "code",
     "collapsed": false,
     "input": [
      "D = dict([(name, (a, e)) for (name, a, e) in Asteroids])\n",
      "print D['Eros']\n",
      "print D['Amor']"
     ],
     "language": "python",
     "metadata": {},
     "outputs": [
      {
       "output_type": "stream",
       "stream": "stdout",
       "text": [
        "(1.457837275957122, 0.2226677322184548)\n",
        "(1.918872951565462, 0.4355437855993322)\n"
       ]
      }
     ],
     "prompt_number": 81
    },
    {
     "cell_type": "markdown",
     "metadata": {},
     "source": [
      "# Breakout #2: Sorting Asteroids\n",
      "\n",
      "Using the above Asteroid list,\n",
      "\n",
      "- print the list sorted in alphabetical order by asteroid name\n",
      "  (hint: how does sorting handle a list of tuples?)\n",
      "- print the list sorted by semi-major axis\n",
      "\n",
      "The output should be formatted like this:\n",
      "\n",
      "    Asteroid name    Semi-major axis (AU)    Eccentricity\n",
      "    -----------------------------------------------------------\n",
      "    Eros             1.457837275957122       0.2226677322184548\n",
      "    Albert           2.629209653851485       0.5518811022529109\n",
      "    .\n",
      "    .\n",
      "    .\n",
      "\n",
      "Bonus points if you can get the columns to line up nicely!"
     ]
    }
   ],
   "metadata": {}
  }
 ]
}